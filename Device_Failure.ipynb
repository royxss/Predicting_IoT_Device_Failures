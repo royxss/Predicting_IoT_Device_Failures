{
 "cells": [
  {
   "cell_type": "markdown",
   "metadata": {},
   "source": [
    "# Reduce maintenance cost through predictive techniques\n",
    "##### Subhadeep Roy"
   ]
  },
  {
   "cell_type": "markdown",
   "metadata": {},
   "source": [
    "### Business Problem:\n",
    "\n",
<<<<<<< HEAD
    "##### 1. What is the business? 3D Technologies\n",
    "##### 2. What is the problem? Scheduled maintenance for large number of devices are expensive and time consuming. Even so, any device can have sudden failures.\n",
    "##### 3. How can we help? We can analyse any IoT data and build predictive model that can identify prospective device failures.\n",
    "##### 4. What resources do we have? Telemetric readings from various devices that were captured over a period of time can be modelled to detect failures.\n",
    "##### 5. What are the benefits? Predictive maintenance techniques are designed to help determine the condition of in-service equipment in order to predict when maintenance should be performed. This approach promises cost savings over routine or time-based preventive maintenance, because tasks are performed only when warranted.\n",
    "##### 6. What are the considerations? Since we have to predict device failures which will most likely be minority classes, we have to try to reduce false-positives and false-negatives in order to avoid failures as well as undue maintenance. "
=======
    "### 1. What is the business?\n",
    "###### 3D Technologies\n",
    "### 2. What is the problem?\n",
    "###### Scheduled maintenance for large number of devices are expensive and time consuming. Even so, any device can have untimely failures.\n",
    "### 3. How can we help?\n",
    "###### We can analyse data and build predictive model which identifies prospective device failures.\n",
    "### 4. What resources do we have?\n",
    "###### Telemetry readings from various devices that were captured over a period of time can be modelled to detect failures.\n",
    "### 5. What are the benefits?\n",
    "###### Predictive maintenance techniques are designed to help determine the condition of in-service equipment in order to predict when maintenance should be performed. This approach promises cost savings over routine or time-based preventive maintenance, because tasks are performed only when warranted.\n",
    "### 6. What are the considerations?\n",
    "###### Since we have to predict device failures which are minority classes, we have to try to reduce false-positives and false-negatives because we must avoid failures as well as undue maintenance. "
>>>>>>> origin/master
   ]
  },
  {
   "cell_type": "code",
   "execution_count": 1,
   "metadata": {},
   "outputs": [],
   "source": [
    "# Set Environment\n",
    "setwd(\"C:\\\\Users\\\\SROY\\\\Documents\\\\CodeBase\\\\Datasets\\\\aws\")\n",
    "rm(list=ls())\n",
    "seedVal = 17869\n",
    "options(warn=-1)"
   ]
  },
  {
   "cell_type": "code",
   "execution_count": null,
   "metadata": {},
   "outputs": [],
   "source": [
    "#Load Required libraries\n",
    "library(parallel)\n",
    "library(doMC)\n",
    "library(DMwR)\n",
    "library(zoo)\n",
    "library(ROSE)\n",
    "library(mlr)\n",
    "library(dplyr)\n",
    "library(pROC)\n",
    "library(gridExtra)\n",
    "library(caret)\n",
    "library(xgboost)\n",
    "library(ggplot2)\n",
    "library(ggcorrplot)\n",
    "library(lubridate)\n",
    "library(corrplot)\n",
    "library(reshape2)\n",
    "library(dummies)\n",
    "library(h2o)\n",
    "theme_set(theme_classic())"
   ]
  },
  {
   "cell_type": "code",
   "execution_count": 3,
   "metadata": {},
   "outputs": [],
   "source": [
    "#Import Data\n",
    "df <- read.csv2('device_failure_aws.csv', sep = ',', header = TRUE)"
   ]
  },
  {
   "cell_type": "code",
   "execution_count": 4,
   "metadata": {},
   "outputs": [
    {
     "name": "stdout",
     "output_type": "stream",
     "text": [
      "'data.frame':\t124494 obs. of  12 variables:\n",
      " $ date      : int  15001 15001 15001 15001 15001 15001 15001 15001 15001 15001 ...\n",
      " $ device    : Factor w/ 1168 levels \"S1F01085\",\"S1F013BB\",..: 1 3 4 5 6 7 8 9 10 11 ...\n",
      " $ attribute1: int  215630672 61370680 173295968 79694024 135970480 68837488 227721632 141503600 8217840 116440096 ...\n",
      " $ attribute2: int  56 0 0 0 0 0 0 0 0 0 ...\n",
      " $ attribute3: int  0 3 0 0 0 0 0 0 1 323 ...\n",
      " $ attribute4: int  52 0 0 0 0 41 0 1 0 9 ...\n",
      " $ attribute5: int  6 6 12 6 15 6 8 19 14 9 ...\n",
      " $ attribute6: int  407438 403174 237394 410186 313173 413535 402525 494462 311869 407905 ...\n",
      " $ attribute7: int  0 0 0 0 0 0 0 16 0 0 ...\n",
      " $ attribute8: int  0 0 0 0 0 0 0 16 0 0 ...\n",
      " $ attribute9: int  7 0 0 0 3 1 0 3 0 164 ...\n",
      " $ failure   : int  0 0 0 0 0 0 0 0 0 0 ...\n"
     ]
    },
    {
     "data": {
      "text/html": [
       "<table>\n",
       "<thead><tr><th scope=col>date</th><th scope=col>device</th><th scope=col>attribute1</th><th scope=col>attribute2</th><th scope=col>attribute3</th><th scope=col>attribute4</th><th scope=col>attribute5</th><th scope=col>attribute6</th><th scope=col>attribute7</th><th scope=col>attribute8</th><th scope=col>attribute9</th><th scope=col>failure</th></tr></thead>\n",
       "<tbody>\n",
       "\t<tr><td>15001    </td><td>S1F01085 </td><td>215630672</td><td>56       </td><td>0        </td><td>52       </td><td> 6       </td><td>407438   </td><td>0        </td><td>0        </td><td>7        </td><td>0        </td></tr>\n",
       "\t<tr><td>15001    </td><td>S1F0166B </td><td> 61370680</td><td> 0       </td><td>3        </td><td> 0       </td><td> 6       </td><td>403174   </td><td>0        </td><td>0        </td><td>0        </td><td>0        </td></tr>\n",
       "\t<tr><td>15001    </td><td>S1F01E6Y </td><td>173295968</td><td> 0       </td><td>0        </td><td> 0       </td><td>12       </td><td>237394   </td><td>0        </td><td>0        </td><td>0        </td><td>0        </td></tr>\n",
       "\t<tr><td>15001    </td><td>S1F01JE0 </td><td> 79694024</td><td> 0       </td><td>0        </td><td> 0       </td><td> 6       </td><td>410186   </td><td>0        </td><td>0        </td><td>0        </td><td>0        </td></tr>\n",
       "\t<tr><td>15001    </td><td>S1F01R2B </td><td>135970480</td><td> 0       </td><td>0        </td><td> 0       </td><td>15       </td><td>313173   </td><td>0        </td><td>0        </td><td>3        </td><td>0        </td></tr>\n",
       "\t<tr><td>15001    </td><td>S1F01TD5 </td><td> 68837488</td><td> 0       </td><td>0        </td><td>41       </td><td> 6       </td><td>413535   </td><td>0        </td><td>0        </td><td>1        </td><td>0        </td></tr>\n",
       "</tbody>\n",
       "</table>\n"
      ],
      "text/latex": [
       "\\begin{tabular}{r|llllllllllll}\n",
       " date & device & attribute1 & attribute2 & attribute3 & attribute4 & attribute5 & attribute6 & attribute7 & attribute8 & attribute9 & failure\\\\\n",
       "\\hline\n",
       "\t 15001     & S1F01085  & 215630672 & 56        & 0         & 52        &  6        & 407438    & 0         & 0         & 7         & 0        \\\\\n",
       "\t 15001     & S1F0166B  &  61370680 &  0        & 3         &  0        &  6        & 403174    & 0         & 0         & 0         & 0        \\\\\n",
       "\t 15001     & S1F01E6Y  & 173295968 &  0        & 0         &  0        & 12        & 237394    & 0         & 0         & 0         & 0        \\\\\n",
       "\t 15001     & S1F01JE0  &  79694024 &  0        & 0         &  0        &  6        & 410186    & 0         & 0         & 0         & 0        \\\\\n",
       "\t 15001     & S1F01R2B  & 135970480 &  0        & 0         &  0        & 15        & 313173    & 0         & 0         & 3         & 0        \\\\\n",
       "\t 15001     & S1F01TD5  &  68837488 &  0        & 0         & 41        &  6        & 413535    & 0         & 0         & 1         & 0        \\\\\n",
       "\\end{tabular}\n"
      ],
      "text/markdown": [
       "\n",
       "date | device | attribute1 | attribute2 | attribute3 | attribute4 | attribute5 | attribute6 | attribute7 | attribute8 | attribute9 | failure | \n",
       "|---|---|---|---|---|---|\n",
       "| 15001     | S1F01085  | 215630672 | 56        | 0         | 52        |  6        | 407438    | 0         | 0         | 7         | 0         | \n",
       "| 15001     | S1F0166B  |  61370680 |  0        | 3         |  0        |  6        | 403174    | 0         | 0         | 0         | 0         | \n",
       "| 15001     | S1F01E6Y  | 173295968 |  0        | 0         |  0        | 12        | 237394    | 0         | 0         | 0         | 0         | \n",
       "| 15001     | S1F01JE0  |  79694024 |  0        | 0         |  0        |  6        | 410186    | 0         | 0         | 0         | 0         | \n",
       "| 15001     | S1F01R2B  | 135970480 |  0        | 0         |  0        | 15        | 313173    | 0         | 0         | 3         | 0         | \n",
       "| 15001     | S1F01TD5  |  68837488 |  0        | 0         | 41        |  6        | 413535    | 0         | 0         | 1         | 0         | \n",
       "\n",
       "\n"
      ],
      "text/plain": [
       "  date  device   attribute1 attribute2 attribute3 attribute4 attribute5\n",
       "1 15001 S1F01085 215630672  56         0          52          6        \n",
       "2 15001 S1F0166B  61370680   0         3           0          6        \n",
       "3 15001 S1F01E6Y 173295968   0         0           0         12        \n",
       "4 15001 S1F01JE0  79694024   0         0           0          6        \n",
       "5 15001 S1F01R2B 135970480   0         0           0         15        \n",
       "6 15001 S1F01TD5  68837488   0         0          41          6        \n",
       "  attribute6 attribute7 attribute8 attribute9 failure\n",
       "1 407438     0          0          7          0      \n",
       "2 403174     0          0          0          0      \n",
       "3 237394     0          0          0          0      \n",
       "4 410186     0          0          0          0      \n",
       "5 313173     0          0          3          0      \n",
       "6 413535     0          0          1          0      "
      ]
     },
     "metadata": {},
     "output_type": "display_data"
    }
   ],
   "source": [
    "# Check structure of data\n",
    "str(df)\n",
    "head(df)"
   ]
  },
  {
   "cell_type": "markdown",
   "metadata": {},
   "source": [
    "### 1. Pre-process data\n",
    "This step is for basic cosmetic changes which must be done prior to EDA and modelling.\n",
    "The structure of the data looks fine and the datatypes are mostly appropriate except target variable device.\n",
    "Initial thoughts just by looking at the data is the attribute recordings from telemetry devices may be sparse and couple of columns have large values.\n",
    "The date column doesn't look right. The case mentions date in YYYY-MM-DD format and it looks nowhere close. We have to fix this first.\n",
    "Also, failure is denoted as 1 and non failure as 0."
   ]
  },
  {
   "cell_type": "code",
   "execution_count": 5,
   "metadata": {},
   "outputs": [
    {
     "data": {
      "text/html": [
       "<table>\n",
       "<thead><tr><th scope=col>date</th><th scope=col>wday</th><th scope=col>week</th><th scope=col>month</th><th scope=col>device</th><th scope=col>attribute1</th><th scope=col>attribute2</th><th scope=col>attribute3</th><th scope=col>attribute4</th><th scope=col>attribute5</th><th scope=col>attribute6</th><th scope=col>attribute7</th><th scope=col>attribute8</th><th scope=col>attribute9</th><th scope=col>failure</th></tr></thead>\n",
       "<tbody>\n",
       "\t<tr><td>2015-01-01</td><td>5         </td><td>1         </td><td>1         </td><td>S1F01085  </td><td>215630672 </td><td>56        </td><td>0         </td><td>52        </td><td> 6        </td><td>407438    </td><td>0         </td><td>0         </td><td>7         </td><td>0         </td></tr>\n",
       "\t<tr><td>2015-01-01</td><td>5         </td><td>1         </td><td>1         </td><td>S1F0166B  </td><td> 61370680 </td><td> 0        </td><td>3         </td><td> 0        </td><td> 6        </td><td>403174    </td><td>0         </td><td>0         </td><td>0         </td><td>0         </td></tr>\n",
       "\t<tr><td>2015-01-01</td><td>5         </td><td>1         </td><td>1         </td><td>S1F01E6Y  </td><td>173295968 </td><td> 0        </td><td>0         </td><td> 0        </td><td>12        </td><td>237394    </td><td>0         </td><td>0         </td><td>0         </td><td>0         </td></tr>\n",
       "\t<tr><td>2015-01-01</td><td>5         </td><td>1         </td><td>1         </td><td>S1F01JE0  </td><td> 79694024 </td><td> 0        </td><td>0         </td><td> 0        </td><td> 6        </td><td>410186    </td><td>0         </td><td>0         </td><td>0         </td><td>0         </td></tr>\n",
       "\t<tr><td>2015-01-01</td><td>5         </td><td>1         </td><td>1         </td><td>S1F01R2B  </td><td>135970480 </td><td> 0        </td><td>0         </td><td> 0        </td><td>15        </td><td>313173    </td><td>0         </td><td>0         </td><td>3         </td><td>0         </td></tr>\n",
       "\t<tr><td>2015-01-01</td><td>5         </td><td>1         </td><td>1         </td><td>S1F01TD5  </td><td> 68837488 </td><td> 0        </td><td>0         </td><td>41        </td><td> 6        </td><td>413535    </td><td>0         </td><td>0         </td><td>1         </td><td>0         </td></tr>\n",
       "</tbody>\n",
       "</table>\n"
      ],
      "text/latex": [
       "\\begin{tabular}{r|lllllllllllllll}\n",
       " date & wday & week & month & device & attribute1 & attribute2 & attribute3 & attribute4 & attribute5 & attribute6 & attribute7 & attribute8 & attribute9 & failure\\\\\n",
       "\\hline\n",
       "\t 2015-01-01 & 5          & 1          & 1          & S1F01085   & 215630672  & 56         & 0          & 52         &  6         & 407438     & 0          & 0          & 7          & 0         \\\\\n",
       "\t 2015-01-01 & 5          & 1          & 1          & S1F0166B   &  61370680  &  0         & 3          &  0         &  6         & 403174     & 0          & 0          & 0          & 0         \\\\\n",
       "\t 2015-01-01 & 5          & 1          & 1          & S1F01E6Y   & 173295968  &  0         & 0          &  0         & 12         & 237394     & 0          & 0          & 0          & 0         \\\\\n",
       "\t 2015-01-01 & 5          & 1          & 1          & S1F01JE0   &  79694024  &  0         & 0          &  0         &  6         & 410186     & 0          & 0          & 0          & 0         \\\\\n",
       "\t 2015-01-01 & 5          & 1          & 1          & S1F01R2B   & 135970480  &  0         & 0          &  0         & 15         & 313173     & 0          & 0          & 3          & 0         \\\\\n",
       "\t 2015-01-01 & 5          & 1          & 1          & S1F01TD5   &  68837488  &  0         & 0          & 41         &  6         & 413535     & 0          & 0          & 1          & 0         \\\\\n",
       "\\end{tabular}\n"
      ],
      "text/markdown": [
       "\n",
       "date | wday | week | month | device | attribute1 | attribute2 | attribute3 | attribute4 | attribute5 | attribute6 | attribute7 | attribute8 | attribute9 | failure | \n",
       "|---|---|---|---|---|---|\n",
       "| 2015-01-01 | 5          | 1          | 1          | S1F01085   | 215630672  | 56         | 0          | 52         |  6         | 407438     | 0          | 0          | 7          | 0          | \n",
       "| 2015-01-01 | 5          | 1          | 1          | S1F0166B   |  61370680  |  0         | 3          |  0         |  6         | 403174     | 0          | 0          | 0          | 0          | \n",
       "| 2015-01-01 | 5          | 1          | 1          | S1F01E6Y   | 173295968  |  0         | 0          |  0         | 12         | 237394     | 0          | 0          | 0          | 0          | \n",
       "| 2015-01-01 | 5          | 1          | 1          | S1F01JE0   |  79694024  |  0         | 0          |  0         |  6         | 410186     | 0          | 0          | 0          | 0          | \n",
       "| 2015-01-01 | 5          | 1          | 1          | S1F01R2B   | 135970480  |  0         | 0          |  0         | 15         | 313173     | 0          | 0          | 3          | 0          | \n",
       "| 2015-01-01 | 5          | 1          | 1          | S1F01TD5   |  68837488  |  0         | 0          | 41         |  6         | 413535     | 0          | 0          | 1          | 0          | \n",
       "\n",
       "\n"
      ],
      "text/plain": [
       "  date       wday week month device   attribute1 attribute2 attribute3\n",
       "1 2015-01-01 5    1    1     S1F01085 215630672  56         0         \n",
       "2 2015-01-01 5    1    1     S1F0166B  61370680   0         3         \n",
       "3 2015-01-01 5    1    1     S1F01E6Y 173295968   0         0         \n",
       "4 2015-01-01 5    1    1     S1F01JE0  79694024   0         0         \n",
       "5 2015-01-01 5    1    1     S1F01R2B 135970480   0         0         \n",
       "6 2015-01-01 5    1    1     S1F01TD5  68837488   0         0         \n",
       "  attribute4 attribute5 attribute6 attribute7 attribute8 attribute9 failure\n",
       "1 52          6         407438     0          0          7          0      \n",
       "2  0          6         403174     0          0          0          0      \n",
       "3  0         12         237394     0          0          0          0      \n",
       "4  0          6         410186     0          0          0          0      \n",
       "5  0         15         313173     0          0          3          0      \n",
       "6 41          6         413535     0          0          1          0      "
      ]
     },
     "metadata": {},
     "output_type": "display_data"
    }
   ],
   "source": [
    "# Fix Datatype of failure\n",
    "df$failure <- as.factor(df$failure)\n",
    "\n",
    "# Date looks weird. Case study says YYYY-MM-DD format. Surly it's not in the same format.\n",
    "#length(unique(df$date)) # 304 elements\n",
    "# Need to check if there is a pattern\n",
    "#length(grep('15*', unique(df$date))) # 304 elements\n",
    "\n",
    "# Looks like the year is 2015 and the rest are the days. Fix it using lubridate.\n",
    "df$date <- substr(df$date, start = 3, stop = 5)\n",
    "df$date <- as_date(as.integer(df$date), origin = \"2014-12-31\")\n",
    "\n",
    "# Create extra date value columns\n",
    "df$wday <- lubridate::wday(df$date)\n",
    "df$week <- lubridate::week(df$date)\n",
    "df$month <- lubridate::month(df$date)\n",
    "df <- df %>% select(date, wday, week, month, device, starts_with('att'), failure)\n",
    "\n",
    "# Convert them into factors\n",
    "df <- df %>% mutate_at(vars(wday, week, month), funs(factor(.)))\n",
    "head(df)"
   ]
  },
  {
   "cell_type": "markdown",
   "metadata": {},
   "source": [
    "The date looked like a pattern of yearDays where days were continuous and indicates recorded observation day. The year (15) looked consistent so it is safe to assume it as year. The date column has been fixed and transformed into weekday, week number and the month. We will see if these new columns will help the model.\n",
    "#### Next we will check for missing values."
   ]
  },
  {
   "cell_type": "code",
   "execution_count": 6,
   "metadata": {},
   "outputs": [
    {
     "data": {
      "text/html": [
       "<dl class=dl-horizontal>\n",
       "\t<dt>date</dt>\n",
       "\t\t<dd>0</dd>\n",
       "\t<dt>wday</dt>\n",
       "\t\t<dd>0</dd>\n",
       "\t<dt>week</dt>\n",
       "\t\t<dd>0</dd>\n",
       "\t<dt>month</dt>\n",
       "\t\t<dd>0</dd>\n",
       "\t<dt>device</dt>\n",
       "\t\t<dd>0</dd>\n",
       "\t<dt>attribute1</dt>\n",
       "\t\t<dd>0</dd>\n",
       "\t<dt>attribute2</dt>\n",
       "\t\t<dd>0</dd>\n",
       "\t<dt>attribute3</dt>\n",
       "\t\t<dd>0</dd>\n",
       "\t<dt>attribute4</dt>\n",
       "\t\t<dd>0</dd>\n",
       "\t<dt>attribute5</dt>\n",
       "\t\t<dd>0</dd>\n",
       "\t<dt>attribute6</dt>\n",
       "\t\t<dd>0</dd>\n",
       "\t<dt>attribute7</dt>\n",
       "\t\t<dd>0</dd>\n",
       "\t<dt>attribute8</dt>\n",
       "\t\t<dd>0</dd>\n",
       "\t<dt>attribute9</dt>\n",
       "\t\t<dd>0</dd>\n",
       "\t<dt>failure</dt>\n",
       "\t\t<dd>0</dd>\n",
       "</dl>\n"
      ],
      "text/latex": [
       "\\begin{description*}\n",
       "\\item[date] 0\n",
       "\\item[wday] 0\n",
       "\\item[week] 0\n",
       "\\item[month] 0\n",
       "\\item[device] 0\n",
       "\\item[attribute1] 0\n",
       "\\item[attribute2] 0\n",
       "\\item[attribute3] 0\n",
       "\\item[attribute4] 0\n",
       "\\item[attribute5] 0\n",
       "\\item[attribute6] 0\n",
       "\\item[attribute7] 0\n",
       "\\item[attribute8] 0\n",
       "\\item[attribute9] 0\n",
       "\\item[failure] 0\n",
       "\\end{description*}\n"
      ],
      "text/markdown": [
       "date\n",
       ":   0wday\n",
       ":   0week\n",
       ":   0month\n",
       ":   0device\n",
       ":   0attribute1\n",
       ":   0attribute2\n",
       ":   0attribute3\n",
       ":   0attribute4\n",
       ":   0attribute5\n",
       ":   0attribute6\n",
       ":   0attribute7\n",
       ":   0attribute8\n",
       ":   0attribute9\n",
       ":   0failure\n",
       ":   0\n",
       "\n"
      ],
      "text/plain": [
       "      date       wday       week      month     device attribute1 attribute2 \n",
       "         0          0          0          0          0          0          0 \n",
       "attribute3 attribute4 attribute5 attribute6 attribute7 attribute8 attribute9 \n",
       "         0          0          0          0          0          0          0 \n",
       "   failure \n",
       "         0 "
      ]
     },
     "metadata": {},
     "output_type": "display_data"
    }
   ],
   "source": [
    "apply(df, 2, function(x) length(which(x == \"\" | is.na(x) | x == \"NA\"))) # No missing values"
   ]
  },
  {
   "cell_type": "markdown",
   "metadata": {},
   "source": [
    "### 2. Exploratory Data Analysis\n",
    "We will explore data to understand the telemetry reading patterns and device failures"
   ]
  },
  {
   "cell_type": "code",
   "execution_count": 7,
   "metadata": {},
   "outputs": [
    {
     "name": "stdout",
     "output_type": "stream",
     "text": [
      "[1] \"1168 unique devices\"\n"
     ]
    },
    {
     "data": {},
     "metadata": {},
     "output_type": "display_data"
    },
    {
     "data": {
      "image/png": "iVBORw0KGgoAAAANSUhEUgAAA0gAAANICAMAAADKOT/pAAAAM1BMVEUAAAAzMzNNTU1oaGh8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\nQmCC",
      "text/plain": [
       "plot without title"
      ]
     },
     "metadata": {},
     "output_type": "display_data"
    }
   ],
   "source": [
    "# Devices\n",
    "print(paste0(length(unique(df$device)), ' unique devices')) #1168 unique devices\n",
    "\n",
    "# Number of devices recorded each day.\n",
    "countDeviceEachDay <- df %>% select(date) %>% count(date)\n",
    "ggplot(countDeviceEachDay, aes(x=date)) + geom_line(aes(y=n)) + labs(x='Time', y='Devices Recorded')"
   ]
  },
  {
   "cell_type": "markdown",
   "metadata": {},
   "source": [
    "There are 1168 devices. Since there a single device reading each day, the readings gradually decrease which can be observed from the above graph. It looks like the failed devices were taken off."
   ]
  },
  {
   "cell_type": "code",
   "execution_count": 8,
   "metadata": {},
   "outputs": [
    {
     "data": {
      "text/html": [
       "<table>\n",
       "<thead><tr><th scope=col>device</th><th scope=col>maxDate</th><th scope=col>minDate</th><th scope=col>runningDays</th></tr></thead>\n",
       "<tbody>\n",
       "\t<tr><td>S1F0E9EP  </td><td>2015-11-02</td><td>2015-01-01</td><td>305       </td></tr>\n",
       "\t<tr><td>S1F0EGMT  </td><td>2015-11-02</td><td>2015-01-01</td><td>305       </td></tr>\n",
       "\t<tr><td>S1F0FGBQ  </td><td>2015-11-02</td><td>2015-01-01</td><td>305       </td></tr>\n",
       "\t<tr><td>S1F0FP0C  </td><td>2015-11-02</td><td>2015-01-01</td><td>305       </td></tr>\n",
       "\t<tr><td>S1F0GCED  </td><td>2015-11-02</td><td>2015-01-01</td><td>305       </td></tr>\n",
       "\t<tr><td>S1F0GGPP  </td><td>2015-11-02</td><td>2015-01-01</td><td>305       </td></tr>\n",
       "</tbody>\n",
       "</table>\n"
      ],
      "text/latex": [
       "\\begin{tabular}{r|llll}\n",
       " device & maxDate & minDate & runningDays\\\\\n",
       "\\hline\n",
       "\t S1F0E9EP   & 2015-11-02 & 2015-01-01 & 305       \\\\\n",
       "\t S1F0EGMT   & 2015-11-02 & 2015-01-01 & 305       \\\\\n",
       "\t S1F0FGBQ   & 2015-11-02 & 2015-01-01 & 305       \\\\\n",
       "\t S1F0FP0C   & 2015-11-02 & 2015-01-01 & 305       \\\\\n",
       "\t S1F0GCED   & 2015-11-02 & 2015-01-01 & 305       \\\\\n",
       "\t S1F0GGPP   & 2015-11-02 & 2015-01-01 & 305       \\\\\n",
       "\\end{tabular}\n"
      ],
      "text/markdown": [
       "\n",
       "device | maxDate | minDate | runningDays | \n",
       "|---|---|---|---|---|---|\n",
       "| S1F0E9EP   | 2015-11-02 | 2015-01-01 | 305        | \n",
       "| S1F0EGMT   | 2015-11-02 | 2015-01-01 | 305        | \n",
       "| S1F0FGBQ   | 2015-11-02 | 2015-01-01 | 305        | \n",
       "| S1F0FP0C   | 2015-11-02 | 2015-01-01 | 305        | \n",
       "| S1F0GCED   | 2015-11-02 | 2015-01-01 | 305        | \n",
       "| S1F0GGPP   | 2015-11-02 | 2015-01-01 | 305        | \n",
       "\n",
       "\n"
      ],
      "text/plain": [
       "  device   maxDate    minDate    runningDays\n",
       "1 S1F0E9EP 2015-11-02 2015-01-01 305        \n",
       "2 S1F0EGMT 2015-11-02 2015-01-01 305        \n",
       "3 S1F0FGBQ 2015-11-02 2015-01-01 305        \n",
       "4 S1F0FP0C 2015-11-02 2015-01-01 305        \n",
       "5 S1F0GCED 2015-11-02 2015-01-01 305        \n",
       "6 S1F0GGPP 2015-11-02 2015-01-01 305        "
      ]
     },
     "metadata": {},
     "output_type": "display_data"
    }
   ],
   "source": [
    "# Let's check the date range of all devices\n",
    "countDeviceDateRange <- df %>% select(date, device) %>% group_by(device) %>% \n",
    "  mutate(maxDate = max(date)) %>% mutate(minDate = min(date)) %>%\n",
    "  select(-date) %>% distinct() %>% mutate(runningDays = (ymd(maxDate) - ymd(minDate))[[1]]) %>%\n",
    "  arrange(desc(runningDays))\n",
    "\n",
    "head(countDeviceDateRange)"
   ]
  },
  {
   "cell_type": "markdown",
   "metadata": {},
   "source": [
    "We notice from the above data, we notice that 31 devices are still up. So the number of failures must be close to the count of devices that were taken off, if not reintroduced again which doesn't seem to be the case.\n",
    "But the number of failures {nrow(df[df$failure == 1,])} is just 106. We have to check what there is a huge mismatch."
   ]
  },
  {
   "cell_type": "code",
   "execution_count": 9,
   "metadata": {},
   "outputs": [
    {
     "name": "stdout",
     "output_type": "stream",
     "text": [
      "[1] \"Newly assigned device status:\"\n"
     ]
    },
    {
     "data": {
      "text/html": [
       "<ol class=list-inline>\n",
       "\t<li>'Terminated-Unknown'</li>\n",
       "\t<li>'Still Monitored'</li>\n",
       "\t<li>'Terminated-Failure'</li>\n",
       "\t<li>'Restarted'</li>\n",
       "</ol>\n"
      ],
      "text/latex": [
       "\\begin{enumerate*}\n",
       "\\item 'Terminated-Unknown'\n",
       "\\item 'Still Monitored'\n",
       "\\item 'Terminated-Failure'\n",
       "\\item 'Restarted'\n",
       "\\end{enumerate*}\n"
      ],
      "text/markdown": [
       "1. 'Terminated-Unknown'\n",
       "2. 'Still Monitored'\n",
       "3. 'Terminated-Failure'\n",
       "4. 'Restarted'\n",
       "\n",
       "\n"
      ],
      "text/plain": [
       "[1] \"Terminated-Unknown\" \"Still Monitored\"    \"Terminated-Failure\"\n",
       "[4] \"Restarted\"         "
      ]
     },
     "metadata": {},
     "output_type": "display_data"
    },
    {
     "data": {
      "text/html": [
       "<table>\n",
       "<thead><tr><th scope=col>device</th><th scope=col>failure</th><th scope=col>maxDate</th><th scope=col>failureDate</th><th scope=col>Status</th></tr></thead>\n",
       "<tbody>\n",
       "\t<tr><td>S1F01085          </td><td>0                 </td><td>2015-01-06        </td><td>NA                </td><td>Terminated-Unknown</td></tr>\n",
       "\t<tr><td>S1F0166B          </td><td>0                 </td><td>2015-01-06        </td><td>NA                </td><td>Terminated-Unknown</td></tr>\n",
       "\t<tr><td>S1F01E6Y          </td><td>0                 </td><td>2015-02-17        </td><td>NA                </td><td>Terminated-Unknown</td></tr>\n",
       "\t<tr><td>S1F01JE0          </td><td>0                 </td><td>2015-01-06        </td><td>NA                </td><td>Terminated-Unknown</td></tr>\n",
       "\t<tr><td>S1F01R2B          </td><td>0                 </td><td>2015-08-24        </td><td>NA                </td><td>Terminated-Unknown</td></tr>\n",
       "\t<tr><td>S1F01TD5          </td><td>0                 </td><td>2015-01-06        </td><td>NA                </td><td>Terminated-Unknown</td></tr>\n",
       "</tbody>\n",
       "</table>\n"
      ],
      "text/latex": [
       "\\begin{tabular}{r|lllll}\n",
       " device & failure & maxDate & failureDate & Status\\\\\n",
       "\\hline\n",
       "\t S1F01085           & 0                  & 2015-01-06         & NA                 & Terminated-Unknown\\\\\n",
       "\t S1F0166B           & 0                  & 2015-01-06         & NA                 & Terminated-Unknown\\\\\n",
       "\t S1F01E6Y           & 0                  & 2015-02-17         & NA                 & Terminated-Unknown\\\\\n",
       "\t S1F01JE0           & 0                  & 2015-01-06         & NA                 & Terminated-Unknown\\\\\n",
       "\t S1F01R2B           & 0                  & 2015-08-24         & NA                 & Terminated-Unknown\\\\\n",
       "\t S1F01TD5           & 0                  & 2015-01-06         & NA                 & Terminated-Unknown\\\\\n",
       "\\end{tabular}\n"
      ],
      "text/markdown": [
       "\n",
       "device | failure | maxDate | failureDate | Status | \n",
       "|---|---|---|---|---|---|\n",
       "| S1F01085           | 0                  | 2015-01-06         | NA                 | Terminated-Unknown | \n",
       "| S1F0166B           | 0                  | 2015-01-06         | NA                 | Terminated-Unknown | \n",
       "| S1F01E6Y           | 0                  | 2015-02-17         | NA                 | Terminated-Unknown | \n",
       "| S1F01JE0           | 0                  | 2015-01-06         | NA                 | Terminated-Unknown | \n",
       "| S1F01R2B           | 0                  | 2015-08-24         | NA                 | Terminated-Unknown | \n",
       "| S1F01TD5           | 0                  | 2015-01-06         | NA                 | Terminated-Unknown | \n",
       "\n",
       "\n"
      ],
      "text/plain": [
       "  device   failure maxDate    failureDate Status            \n",
       "1 S1F01085 0       2015-01-06 <NA>        Terminated-Unknown\n",
       "2 S1F0166B 0       2015-01-06 <NA>        Terminated-Unknown\n",
       "3 S1F01E6Y 0       2015-02-17 <NA>        Terminated-Unknown\n",
       "4 S1F01JE0 0       2015-01-06 <NA>        Terminated-Unknown\n",
       "5 S1F01R2B 0       2015-08-24 <NA>        Terminated-Unknown\n",
       "6 S1F01TD5 0       2015-01-06 <NA>        Terminated-Unknown"
      ]
     },
     "metadata": {},
     "output_type": "display_data"
    }
   ],
   "source": [
    "# Let's check the above discrepancy\n",
    "countDeviceRestarts <- df %>% select(date, device, failure) %>% group_by(device) %>% \n",
    "  mutate(maxDate = max(date)) %>%\n",
    "  mutate(failureDate = if_else(failure == 1, date, NULL)) %>% select(-date) %>% distinct()\n",
    "\n",
    "dupDevice <- countDeviceRestarts %>% select(device) %>% count() %>% filter(n > 1)\n",
    "\n",
    "# At this point it looks clear that many devices were taken off without failure\n",
    "countDeviceRestarts <- countDeviceRestarts %>%\n",
    "  mutate(Status = if_else(is.na(failureDate), 'Terminated-Unknown', \n",
    "                          if_else(failureDate == maxDate, 'Terminated-Failure', 'Restarted')))\n",
    "countDeviceRestarts[countDeviceRestarts$device %in% dupDevice$device & countDeviceRestarts$failure==0,'Status'] <- 'Duplicated'\n",
    "countDeviceRestarts <- countDeviceRestarts[countDeviceRestarts$Status != 'Duplicated',]\n",
    "countDeviceRestarts[countDeviceRestarts$maxDate == '2015-11-02', 'Status'] <- 'Still Monitored'\n",
    "\n",
    "print(\"Newly assigned device status:\")\n",
    "unique(countDeviceRestarts$Status)\n",
    "head(countDeviceRestarts)"
   ]
  },
  {
   "cell_type": "markdown",
   "metadata": {},
   "source": [
    "From the above it is clear that many devices were taken off even without a failure or not recorded. That explains the 106 failures vs 1168 devices. The above table is created and each device is labelled for status. Some devices were also restarted.\n",
    "Since devices were also pulled off without failure, survival analysis will not be possible.\n",
    "#### Below are the devices status frequency"
   ]
  },
  {
   "cell_type": "code",
   "execution_count": 10,
   "metadata": {},
   "outputs": [
    {
     "data": {
      "text/html": [
       "<table>\n",
       "<thead><tr><th scope=col>Var1</th><th scope=col>Freq</th></tr></thead>\n",
       "<tbody>\n",
       "\t<tr><td>Restarted         </td><td>   5              </td></tr>\n",
       "\t<tr><td>Still Monitored   </td><td>  31              </td></tr>\n",
       "\t<tr><td>Terminated-Failure</td><td> 101              </td></tr>\n",
       "\t<tr><td>Terminated-Unknown</td><td>1031              </td></tr>\n",
       "</tbody>\n",
       "</table>\n"
      ],
      "text/latex": [
       "\\begin{tabular}{r|ll}\n",
       " Var1 & Freq\\\\\n",
       "\\hline\n",
       "\t Restarted          &    5              \\\\\n",
       "\t Still Monitored    &   31              \\\\\n",
       "\t Terminated-Failure &  101              \\\\\n",
       "\t Terminated-Unknown & 1031              \\\\\n",
       "\\end{tabular}\n"
      ],
      "text/markdown": [
       "\n",
       "Var1 | Freq | \n",
       "|---|---|---|---|\n",
       "| Restarted          |    5               | \n",
       "| Still Monitored    |   31               | \n",
       "| Terminated-Failure |  101               | \n",
       "| Terminated-Unknown | 1031               | \n",
       "\n",
       "\n"
      ],
      "text/plain": [
       "  Var1               Freq\n",
       "1 Restarted             5\n",
       "2 Still Monitored      31\n",
       "3 Terminated-Failure  101\n",
       "4 Terminated-Unknown 1031"
      ]
     },
     "metadata": {},
     "output_type": "display_data"
    },
    {
     "data": {},
     "metadata": {},
     "output_type": "display_data"
    },
    {
     "data": {
      "image/png": "iVBORw0KGgoAAAANSUhEUgAAA0gAAANICAMAAADKOT/pAAAANlBMVEUAAAAzMzNNTU1oaGh8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\nAElFTkSuQmCC",
      "text/plain": [
       "plot without title"
      ]
     },
     "metadata": {},
     "output_type": "display_data"
    }
   ],
   "source": [
    "# Frequency table of device types\n",
    "freqtable <- table(countDeviceRestarts$Status)\n",
    "freqtable <- as.data.frame.table(freqtable)\n",
    "freqtable\n",
    "\n",
    "ggplot(freqtable, aes(Var1, Freq)) + geom_bar(stat=\"identity\", width = 0.5, fill=\"tomato2\") + \n",
    "  labs(x = \"Device Status\", y = \"Count of devices\") +\n",
    "  theme(axis.text.x = element_text(angle=65, vjust=0.6))"
   ]
  },
  {
   "cell_type": "code",
   "execution_count": 11,
   "metadata": {},
   "outputs": [
    {
     "data": {
      "text/html": [
       "<table>\n",
       "<thead><tr><th scope=col>device</th><th scope=col>n</th></tr></thead>\n",
       "<tbody>\n",
       "</tbody>\n",
       "</table>\n"
      ],
      "text/latex": [
       "\\begin{tabular}{r|ll}\n",
       " device & n\\\\\n",
       "\\hline\n",
       "\\end{tabular}\n"
      ],
      "text/markdown": [
       "\n",
       "device | n | \n",
       "||\n",
       "\n",
       "\n"
      ],
      "text/plain": [
       "     device n"
      ]
     },
     "metadata": {},
     "output_type": "display_data"
    },
    {
     "name": "stdout",
     "output_type": "stream",
     "text": [
      "[1] \"Devices which started late.\"\n"
     ]
    },
    {
     "data": {
      "text/html": [
       "<table>\n",
       "<thead><tr><th scope=col>device</th><th scope=col>maxDate</th><th scope=col>minDate</th><th scope=col>runningDays</th></tr></thead>\n",
       "<tbody>\n",
       "\t<tr><td>W1F0976M  </td><td>2015-10-12</td><td>2015-01-27</td><td>258       </td></tr>\n",
       "\t<tr><td>S1F013BB  </td><td>2015-05-11</td><td>2015-05-06</td><td>  5       </td></tr>\n",
       "\t<tr><td>S1F02W1L  </td><td>2015-05-11</td><td>2015-05-06</td><td>  5       </td></tr>\n",
       "\t<tr><td>S1F02XLX  </td><td>2015-05-11</td><td>2015-05-06</td><td>  5       </td></tr>\n",
       "\t<tr><td>S1F03499  </td><td>2015-05-11</td><td>2015-05-06</td><td>  5       </td></tr>\n",
       "</tbody>\n",
       "</table>\n"
      ],
      "text/latex": [
       "\\begin{tabular}{r|llll}\n",
       " device & maxDate & minDate & runningDays\\\\\n",
       "\\hline\n",
       "\t W1F0976M   & 2015-10-12 & 2015-01-27 & 258       \\\\\n",
       "\t S1F013BB   & 2015-05-11 & 2015-05-06 &   5       \\\\\n",
       "\t S1F02W1L   & 2015-05-11 & 2015-05-06 &   5       \\\\\n",
       "\t S1F02XLX   & 2015-05-11 & 2015-05-06 &   5       \\\\\n",
       "\t S1F03499   & 2015-05-11 & 2015-05-06 &   5       \\\\\n",
       "\\end{tabular}\n"
      ],
      "text/markdown": [
       "\n",
       "device | maxDate | minDate | runningDays | \n",
       "|---|---|---|---|---|\n",
       "| W1F0976M   | 2015-10-12 | 2015-01-27 | 258        | \n",
       "| S1F013BB   | 2015-05-11 | 2015-05-06 |   5        | \n",
       "| S1F02W1L   | 2015-05-11 | 2015-05-06 |   5        | \n",
       "| S1F02XLX   | 2015-05-11 | 2015-05-06 |   5        | \n",
       "| S1F03499   | 2015-05-11 | 2015-05-06 |   5        | \n",
       "\n",
       "\n"
      ],
      "text/plain": [
       "  device   maxDate    minDate    runningDays\n",
       "1 W1F0976M 2015-10-12 2015-01-27 258        \n",
       "2 S1F013BB 2015-05-11 2015-05-06   5        \n",
       "3 S1F02W1L 2015-05-11 2015-05-06   5        \n",
       "4 S1F02XLX 2015-05-11 2015-05-06   5        \n",
       "5 S1F03499 2015-05-11 2015-05-06   5        "
      ]
     },
     "metadata": {},
     "output_type": "display_data"
    }
   ],
   "source": [
    "# Check if there are more than 1 failures. No devices failed\n",
    "countManyDeviceFailures <- df %>% select(device, failure) %>% filter(failure==1) %>%\n",
    "  select(device) %>% group_by(device) %>% count() %>% filter(n > 1)\n",
    "countManyDeviceFailures\n",
    "\n",
    "# Devices which started late.\n",
    "print('Devices which started late.')\n",
    "countDeviceDateRange[countDeviceDateRange$minDate > '2015-01-01',]"
   ]
  },
  {
   "cell_type": "markdown",
   "metadata": {},
   "source": [
    "From the above we can see no device has failed more than 1. But there are instances that the device was pulled off after re-introduction post failure.\n",
    "Also, 5 devices started late i.e. post '2015-01-01'. Among them 4 devices were introduced together and pulled out together. The uptime for these devices are really low and cannot be attributed to cases of failure without appropriate target label.\n",
    "#### Below we will see the categorized uptime of devices"
   ]
  },
  {
   "cell_type": "code",
   "execution_count": 12,
   "metadata": {},
   "outputs": [
    {
     "data": {
      "text/plain": [
       "   Min. 1st Qu.  Median    Mean 3rd Qu.    Max. \n",
       "    2.0     5.0    85.0   111.6   225.0   305.0 "
      ]
     },
     "metadata": {},
     "output_type": "display_data"
    },
    {
     "data": {
      "text/html": [
       "317"
      ],
      "text/latex": [
       "317"
      ],
      "text/markdown": [
       "317"
      ],
      "text/plain": [
       "[1] 317"
      ]
     },
     "metadata": {},
     "output_type": "display_data"
    },
    {
     "data": {},
     "metadata": {},
     "output_type": "display_data"
    },
    {
     "data": {
      "image/png": "iVBORw0KGgoAAAANSUhEUgAAA0gAAANICAMAAADKOT/pAAAANlBMVEUAAAAzMzNNTU1oaGh8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\nEacAAAAASUVORK5CYII=",
      "text/plain": [
       "plot without title"
      ]
     },
     "metadata": {},
     "output_type": "display_data"
    }
   ],
   "source": [
    "# Average uptime in days\n",
    "summary(countDeviceDateRange$runningDays)\n",
    "nrow(countDeviceDateRange[countDeviceDateRange$runningDays <= 5 ,])\n",
    "countDeviceDateRange$uptime <- cut(countDeviceDateRange$runningDays, \n",
    "                                   breaks = c(-Inf, 5, 85, 225, 300, Inf), \n",
    "                                   labels = c(\"Extremely Low (0-5)\",\"Low (5-85)\",\"Medium (86-225)\",\"High (226-300)\", \"StillUp\"))\n",
    "\n",
    "freqtable <- table(countDeviceDateRange$uptime)\n",
    "freqtable <- as.data.frame.table(freqtable)\n",
    "\n",
    "ggplot(freqtable, aes(Var1, Freq)) + geom_bar(stat=\"identity\", width = 0.5, fill=\"tomato2\") + \n",
    "  labs(x = \"Uptime category (days)\", y = \"Count of devices\") +\n",
    "  theme(axis.text.x = element_text(angle=65, vjust=0.6))"
   ]
  },
  {
   "cell_type": "markdown",
   "metadata": {},
   "source": [
    "Many devices had an extremely low and low uptime. This may affect forecasting device failures with runtime.\n",
    "Telemetric readings will play an important factor.\n",
    "\n",
    "#### Below are some patterns over time"
   ]
  },
  {
   "cell_type": "code",
   "execution_count": 13,
   "metadata": {},
   "outputs": [
    {
     "data": {
      "text/html": [
       "<table>\n",
       "<thead><tr><th scope=col>maxDate</th><th scope=col>count</th><th scope=col>month</th><th scope=col>wday</th><th scope=col>week</th></tr></thead>\n",
       "<tbody>\n",
       "\t<tr><td>2015-01-06</td><td>205       </td><td>Jan       </td><td>Tues      </td><td> 1        </td></tr>\n",
       "\t<tr><td>2015-01-05</td><td>106       </td><td>Jan       </td><td>Mon       </td><td> 1        </td></tr>\n",
       "\t<tr><td>2015-03-27</td><td> 72       </td><td>Mar       </td><td>Fri       </td><td>13        </td></tr>\n",
       "\t<tr><td>2015-03-25</td><td> 64       </td><td>Mar       </td><td>Wed       </td><td>12        </td></tr>\n",
       "\t<tr><td>2015-05-11</td><td> 47       </td><td>May       </td><td>Mon       </td><td>19        </td></tr>\n",
       "\t<tr><td>2015-04-06</td><td> 42       </td><td>Apr       </td><td>Mon       </td><td>14        </td></tr>\n",
       "</tbody>\n",
       "</table>\n"
      ],
      "text/latex": [
       "\\begin{tabular}{r|lllll}\n",
       " maxDate & count & month & wday & week\\\\\n",
       "\\hline\n",
       "\t 2015-01-06 & 205        & Jan        & Tues       &  1        \\\\\n",
       "\t 2015-01-05 & 106        & Jan        & Mon        &  1        \\\\\n",
       "\t 2015-03-27 &  72        & Mar        & Fri        & 13        \\\\\n",
       "\t 2015-03-25 &  64        & Mar        & Wed        & 12        \\\\\n",
       "\t 2015-05-11 &  47        & May        & Mon        & 19        \\\\\n",
       "\t 2015-04-06 &  42        & Apr        & Mon        & 14        \\\\\n",
       "\\end{tabular}\n"
      ],
      "text/markdown": [
       "\n",
       "maxDate | count | month | wday | week | \n",
       "|---|---|---|---|---|---|\n",
       "| 2015-01-06 | 205        | Jan        | Tues       |  1         | \n",
       "| 2015-01-05 | 106        | Jan        | Mon        |  1         | \n",
       "| 2015-03-27 |  72        | Mar        | Fri        | 13         | \n",
       "| 2015-03-25 |  64        | Mar        | Wed        | 12         | \n",
       "| 2015-05-11 |  47        | May        | Mon        | 19         | \n",
       "| 2015-04-06 |  42        | Apr        | Mon        | 14         | \n",
       "\n",
       "\n"
      ],
      "text/plain": [
       "  maxDate    count month wday week\n",
       "1 2015-01-06 205   Jan   Tues  1  \n",
       "2 2015-01-05 106   Jan   Mon   1  \n",
       "3 2015-03-27  72   Mar   Fri  13  \n",
       "4 2015-03-25  64   Mar   Wed  12  \n",
       "5 2015-05-11  47   May   Mon  19  \n",
       "6 2015-04-06  42   Apr   Mon  14  "
      ]
     },
     "metadata": {},
     "output_type": "display_data"
    },
    {
     "name": "stderr",
     "output_type": "stream",
     "text": [
      "Adding missing grouping variables: `maxDate`\n",
      "Adding missing grouping variables: `maxDate`\n",
      "Adding missing grouping variables: `maxDate`\n"
     ]
    },
    {
     "data": {
      "image/png": "iVBORw0KGgoAAAANSUhEUgAAA0gAAANICAMAAADKOT/pAAAAPFBMVEUAAAAzMzNNTU1oaGh8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\nAABJRU5ErkJggg==",
      "text/plain": [
       "plot without title"
      ]
     },
     "metadata": {},
     "output_type": "display_data"
    }
   ],
   "source": [
    "# Lets count start date and end date\n",
    "countDeviceEndDate <- countDeviceDateRange %>% group_by(maxDate) %>% mutate(count = n()) %>% \n",
    "  select(maxDate, count) %>% distinct()\n",
    "countDeviceStartDate <- countDeviceDateRange %>% group_by(minDate) %>% mutate(count = n()) %>% \n",
    "  select(minDate, count) %>% distinct()\n",
    "\n",
    "# Lets analyze device termination days\n",
    "countDeviceEndDate$month <- lubridate::month(countDeviceEndDate$maxDate, label = TRUE)\n",
    "countDeviceEndDate$wday <- lubridate::wday(countDeviceEndDate$maxDate, label = TRUE)\n",
    "countDeviceEndDate$week <- lubridate::week(countDeviceEndDate$maxDate)\n",
    "countDeviceEndDate <- countDeviceEndDate %>% arrange(desc(count))\n",
    "head(countDeviceEndDate)\n",
    "\n",
    "# Count per month\n",
    "countTermPerMonth <- countDeviceEndDate %>% select(month, count) %>% \n",
    "  group_by(month) %>% summarise(Terminations = sum(count))\n",
    "g1 <- ggplot(countTermPerMonth[-nrow(countTermPerMonth),], aes(month, Terminations)) + \n",
    "  geom_bar(stat=\"identity\", width = 0.5, fill=\"tomato3\") + \n",
    "  labs(x = \"Termination Month\", y = \"Count of devices\") +\n",
    "  theme(axis.text.x = element_text(angle=65, vjust=0.6))\n",
    "\n",
    "# Count per week\n",
    "countTermPerWeek <- countDeviceEndDate %>% select(week, count) %>% \n",
    "  group_by(week) %>% summarise(Terminations = sum(count))\n",
    "g2 <- ggplot(countTermPerWeek, aes(x=week)) + geom_line(aes(y=Terminations, col='red')) + \n",
    "  labs(x='Termination Week Number', y='Count of devices')\n",
    "\n",
    "# Count per week day\n",
    "countTermPerWday <- countDeviceEndDate %>% select(wday, count) %>% \n",
    "  group_by(wday) %>% summarise(Terminations = sum(count))\n",
    "g3 <- ggplot(countTermPerWday, aes(wday, Terminations)) + \n",
    "  geom_bar(stat=\"identity\", width = 0.5, fill=\"tomato4\") + \n",
    "  labs(x = \"Termination Week Day\", y = \"Count of devices\") +\n",
    "  theme(axis.text.x = element_text(angle=65, vjust=0.6))\n",
    "\n",
    "grid.arrange(g1, g2, g3, nrow = 1, ncol = 3)"
   ]
  },
  {
   "cell_type": "markdown",
   "metadata": {},
   "source": [
    "The above graph shows terminations per month, week number and week day. January had a lot of terminations either due to \n",
    "failure or pull off. Mondays and Tuesdays have witnessed higher terminations. We will see further if these adds any value \n",
    "to the model.\n",
    "#### We will now analyze the telemetric attribute readings."
   ]
  },
  {
   "cell_type": "code",
   "execution_count": 14,
   "metadata": {},
   "outputs": [
    {
     "data": {},
     "metadata": {},
     "output_type": "display_data"
    },
    {
     "data": {
      "text/html": [
       "<table>\n",
       "<thead><tr><th></th><th scope=col>Var1</th><th scope=col>Var2</th><th scope=col>Freq</th></tr></thead>\n",
       "<tbody>\n",
       "\t<tr><th scope=row>70</th><td>attribute7</td><td>attribute8</td><td>1.0       </td></tr>\n",
       "\t<tr><th scope=row>75</th><td>attribute3</td><td>attribute9</td><td>0.5       </td></tr>\n",
       "\t<tr><th scope=row>29</th><td>attribute2</td><td>attribute4</td><td>0.1       </td></tr>\n",
       "</tbody>\n",
       "</table>\n"
      ],
      "text/latex": [
       "\\begin{tabular}{r|lll}\n",
       "  & Var1 & Var2 & Freq\\\\\n",
       "\\hline\n",
       "\t70 & attribute7 & attribute8 & 1.0       \\\\\n",
       "\t75 & attribute3 & attribute9 & 0.5       \\\\\n",
       "\t29 & attribute2 & attribute4 & 0.1       \\\\\n",
       "\\end{tabular}\n"
      ],
      "text/markdown": [
       "\n",
       "| <!--/--> | Var1 | Var2 | Freq | \n",
       "|---|---|---|\n",
       "| 70 | attribute7 | attribute8 | 1.0        | \n",
       "| 75 | attribute3 | attribute9 | 0.5        | \n",
       "| 29 | attribute2 | attribute4 | 0.1        | \n",
       "\n",
       "\n"
      ],
      "text/plain": [
       "   Var1       Var2       Freq\n",
       "70 attribute7 attribute8 1.0 \n",
       "75 attribute3 attribute9 0.5 \n",
       "29 attribute2 attribute4 0.1 "
      ]
     },
     "metadata": {},
     "output_type": "display_data"
    },
    {
     "data": {
      "image/png": "iVBORw0KGgoAAAANSUhEUgAAA0gAAANICAMAAADKOT/pAAACBFBMVEUAAAAAzWYEzWcMzmkZ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\nQmCC",
      "text/plain": [
       "plot without title"
      ]
     },
     "metadata": {},
     "output_type": "display_data"
    }
   ],
   "source": [
    "# Correlation between attributes\n",
    "corMatrix <- cor(df[,6:14])\n",
    "corMatrix <- round(cor(df[,6:14]), 1)\n",
    "\n",
    "# Plot\n",
    "ggcorrplot(corMatrix, hc.order = TRUE, \n",
    "           type = \"lower\", \n",
    "           lab = TRUE, \n",
    "           lab_size = 3, \n",
    "           method=\"circle\", \n",
    "           colors = c(\"tomato2\", \"white\", \"springgreen3\"), \n",
    "           title=\"Correlogram of attributes\", \n",
    "           ggtheme=theme_bw)\n",
    "\n",
    "# Attribute 7 and 8 are correlated\n",
    "corMatrix[lower.tri(corMatrix,diag=TRUE)]=NA\n",
    "corMatrix=as.data.frame(as.table(corMatrix))\n",
    "corMatrix=na.omit(corMatrix)\n",
    "corMatrix=corMatrix[order(-abs(corMatrix$Freq)),]\n",
    "corMatrix[1:3,]"
   ]
  },
  {
   "cell_type": "markdown",
   "metadata": {},
   "source": [
    "Attribute7 and attribute are the same. We must remove one of them while modelling.\n",
    "#### Below are the density plots of the attributes"
   ]
  },
  {
   "cell_type": "code",
   "execution_count": 15,
   "metadata": {
    "scrolled": false
   },
   "outputs": [
    {
     "data": {
      "image/png": "iVBORw0KGgoAAAANSUhEUgAAA0gAAANICAMAAADKOT/pAAAAP1BMVEUAAAAAmZ0ytrgzMzMz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\n",
      "text/plain": [
       "plot without title"
      ]
     },
     "metadata": {},
     "output_type": "display_data"
    },
    {
     "data": {
      "image/png": "iVBORw0KGgoAAAANSUhEUgAAA0gAAANICAMAAADKOT/pAAAAP1BMVEUAAAAAmZ0ytrgzMzMz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\nsxcMfGAAAAAASUVORK5CYII=",
      "text/plain": [
       "plot without title"
      ]
     },
     "metadata": {},
     "output_type": "display_data"
    },
    {
     "data": {
      "image/png": "iVBORw0KGgoAAAANSUhEUgAAA0gAAANICAMAAADKOT/pAAAAPFBMVEUAAAAAmZ0zMzMzzNBN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\nSUVORK5CYII=",
      "text/plain": [
       "plot without title"
      ]
     },
     "metadata": {},
     "output_type": "display_data"
    }
   ],
   "source": [
    "# Plot density\n",
    "g1 <- ggplot(df, aes(attribute1)) + geom_density(aes(fill=failure), alpha=0.8)\n",
    "g2 <- ggplot(df, aes(attribute2)) + geom_density(aes(fill=failure), alpha=0.8) \n",
    "g3 <- ggplot(df, aes(attribute3)) + geom_density(aes(fill=failure), alpha=0.8) \n",
    "g4 <- ggplot(df, aes(attribute4)) + geom_density(aes(fill=failure), alpha=0.8) \n",
    "g5 <- ggplot(df, aes(attribute5)) + geom_density(aes(fill=failure), alpha=0.8) \n",
    "g6 <- ggplot(df, aes(attribute6)) + geom_density(aes(fill=failure), alpha=0.8) \n",
    "g7 <- ggplot(df, aes(attribute7)) + geom_density(aes(fill=failure), alpha=0.8) \n",
    "g8 <- ggplot(df, aes(attribute8)) + geom_density(aes(fill=failure), alpha=0.8) \n",
    "g9 <- ggplot(df, aes(attribute9)) + geom_density(aes(fill=failure), alpha=0.8) \n",
    "\n",
    "grid.arrange(g1, g2, g3, nrow = 1, ncol = 3)\n",
    "grid.arrange(g4, g5, g6, nrow = 1, ncol = 3)\n",
    "grid.arrange(g7, g8, g9, nrow = 1, ncol = 3)\n",
    "\n",
    "# Analyze near zero variance columns\n",
    "#print('Near Zero Variance columns')\n",
    "#nearZeroVar(df[,-ncol(df)], names = TRUE)"
   ]
  },
  {
   "cell_type": "markdown",
   "metadata": {},
   "source": [
    "Attribute 1 and 6 are non-sparse, other attributes are highly left skewed. Sparcity is really high among them.\n",
    "#### Near Zero Variance Columns\n",
    "##### nearZeroVar(df[,-ncol(df)], names = TRUE)\n",
    "'attribute2' 'attribute3' 'attribute4' 'attribute7' 'attribute8' are identified as nzv columns. Since they are mostly sparse and very few unique values, they might indicate some level readings. Rolling means may not work here.\n",
    "#### Summarizing attributes below"
   ]
  },
  {
   "cell_type": "code",
   "execution_count": 16,
   "metadata": {},
   "outputs": [
    {
     "name": "stdout",
     "output_type": "stream",
     "text": [
      "[1] \"attribute summary for failures.\"\n"
     ]
    },
    {
     "data": {
      "text/plain": [
       "   attribute1          attribute2      attribute3        attribute4     \n",
       " Min.   :  4527376   Min.   :    0   Min.   :  0.000   Min.   :   0.00  \n",
       " 1st Qu.: 70462350   1st Qu.:    0   1st Qu.:  0.000   1st Qu.:   0.00  \n",
       " Median :139117254   Median :    0   Median :  0.000   Median :   1.50  \n",
       " Mean   :127175527   Mean   : 4109   Mean   :  3.906   Mean   :  54.63  \n",
       " 3rd Qu.:183706600   3rd Qu.: 1182   3rd Qu.:  0.000   3rd Qu.:  18.75  \n",
       " Max.   :243261216   Max.   :64784   Max.   :318.000   Max.   :1666.00  \n",
       "   attribute5      attribute6       attribute7       attribute8    \n",
       " Min.   : 3.00   Min.   :    24   Min.   :  0.00   Min.   :  0.00  \n",
       " 1st Qu.: 8.00   1st Qu.:230029   1st Qu.:  0.00   1st Qu.:  0.00  \n",
       " Median :10.00   Median :267649   Median :  0.00   Median :  0.00  \n",
       " Mean   :15.46   Mean   :258304   Mean   : 30.62   Mean   : 30.62  \n",
       " 3rd Qu.:14.00   3rd Qu.:309156   3rd Qu.: 16.00   3rd Qu.: 16.00  \n",
       " Max.   :91.00   Max.   :574599   Max.   :832.00   Max.   :832.00  \n",
       "   attribute9     \n",
       " Min.   :   0.00  \n",
       " 1st Qu.:   0.00  \n",
       " Median :   0.00  \n",
       " Mean   :  23.08  \n",
       " 3rd Qu.:   1.00  \n",
       " Max.   :1165.00  "
      ]
     },
     "metadata": {},
     "output_type": "display_data"
    },
    {
     "name": "stdout",
     "output_type": "stream",
     "text": [
      "[1] \"attribute summary for non-failures.\"\n"
     ]
    },
    {
     "data": {
      "text/plain": [
       "   attribute1          attribute2        attribute3          attribute4      \n",
       " Min.   :        0   Min.   :    0.0   Min.   :    0.000   Min.   :   0.000  \n",
       " 1st Qu.: 61265844   1st Qu.:    0.0   1st Qu.:    0.000   1st Qu.:   0.000  \n",
       " Median :122785512   Median :    0.0   Median :    0.000   Median :   0.000  \n",
       " Mean   :122382672   Mean   :  156.1   Mean   :    9.946   Mean   :   1.696  \n",
       " 3rd Qu.:183306934   3rd Qu.:    0.0   3rd Qu.:    0.000   3rd Qu.:   0.000  \n",
       " Max.   :244140480   Max.   :64968.0   Max.   :24929.000   Max.   :1666.000  \n",
       "   attribute5      attribute6       attribute7         attribute8      \n",
       " Min.   : 1.00   Min.   :     8   Min.   :  0.0000   Min.   :  0.0000  \n",
       " 1st Qu.: 8.00   1st Qu.:221452   1st Qu.:  0.0000   1st Qu.:  0.0000  \n",
       " Median :10.00   Median :249794   Median :  0.0000   Median :  0.0000  \n",
       " Mean   :14.22   Mean   :260175   Mean   :  0.2667   Mean   :  0.2667  \n",
       " 3rd Qu.:12.00   3rd Qu.:310266   3rd Qu.:  0.0000   3rd Qu.:  0.0000  \n",
       " Max.   :98.00   Max.   :689161   Max.   :832.0000   Max.   :832.0000  \n",
       "   attribute9      \n",
       " Min.   :    0.00  \n",
       " 1st Qu.:    0.00  \n",
       " Median :    0.00  \n",
       " Mean   :   12.44  \n",
       " 3rd Qu.:    0.00  \n",
       " Max.   :18701.00  "
      ]
     },
     "metadata": {},
     "output_type": "display_data"
    }
   ],
   "source": [
    "print('attribute summary for failures.')\n",
    "summary(df[df$failure==1,6:14])\n",
    "\n",
    "print('attribute summary for non-failures.')\n",
    "summary(df[df$failure==0,6:14])"
   ]
  },
  {
   "cell_type": "markdown",
   "metadata": {},
   "source": [
    "We notice that the mean changes a lot for failures and non-failures. Maybe we can use rolling mean for modelling.\n",
    "#### We will not remove outliers!!! Since the attribute outlier values can indicate outcomes.\n",
    "Below we will analyze any patterns right before a failure."
   ]
  },
  {
   "cell_type": "code",
   "execution_count": 17,
   "metadata": {},
   "outputs": [
    {
     "name": "stdout",
     "output_type": "stream",
     "text": [
      "[1] \"Displaying attribute patterns for failed devices...\"\n"
     ]
    },
    {
     "data": {
      "image/png": "iVBORw0KGgoAAAANSUhEUgAAA0gAAANICAMAAADKOT/pAAAAb1BMVEUAAAAAsPYAuuAAu04A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",
      "text/plain": [
       "plot without title"
      ]
     },
     "metadata": {},
     "output_type": "display_data"
    }
   ],
   "source": [
    "# Attribute pattern before failure\n",
    "failedDevs <- countDeviceRestarts[countDeviceRestarts$Status == 'Terminated-Failure' ,'device']\n",
    "attDeviceFailure <- df %>% filter(device %in% failedDevs$device[1:20]) %>% arrange(device, date)\n",
    "g1 <- ggplot(attDeviceFailure, aes(x=date)) + geom_line(aes(y=attribute6, col=device))\n",
    "g2 <- ggplot(attDeviceFailure, aes(x=date)) + geom_line(aes(y=attribute4, col=device))\n",
    "print('Displaying attribute patterns for failed devices...')\n",
    "grid.arrange(g1, g2, nrow = 1)"
   ]
  },
  {
   "cell_type": "code",
   "execution_count": 18,
   "metadata": {},
   "outputs": [
    {
     "name": "stdout",
     "output_type": "stream",
     "text": [
      "[1] \"Displaying attribute patterns for non-failed devices...\"\n"
     ]
    },
    {
     "data": {
      "image/png": "iVBORw0KGgoAAAANSUhEUgAAA0gAAANICAMAAADKOT/pAAAAb1BMVEUAAAAAsPYAuuAAu04A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\nSUVORK5CYII=",
      "text/plain": [
       "plot without title"
      ]
     },
     "metadata": {},
     "output_type": "display_data"
    }
   ],
   "source": [
    "# We can notice attribute 6 increases till failure. Is this true for non failure?\n",
    "nonfailedDevs <- countDeviceRestarts[countDeviceRestarts$Status == 'Terminated-Unknown' ,'device']\n",
    "attDevicenonFailure <- df %>% filter(device %in% nonfailedDevs$device[1:20]) %>% arrange(device, date)\n",
    "g1 <- ggplot(attDevicenonFailure, aes(x=date)) + geom_line(aes(y=attribute6, col=device))\n",
    "print('Displaying attribute patterns for non-failed devices...')\n",
    "grid.arrange(g1, nrow = 1)\n",
    "# Not that much. We may say that increase in attribute 6 may lead to a failure"
   ]
  },
  {
   "cell_type": "markdown",
   "metadata": {},
   "source": [
    "From the above two plots we see a pattern for a pattern for attribute 6 which steadily increases till a failure occurs. This pattern is not much observed for non-failure cases. Attribute 6 might be a good indicator for failures.\n",
    "\n",
    "#### We will next check if there is a device type pattern for failures using device id"
   ]
  },
  {
   "cell_type": "code",
   "execution_count": 19,
   "metadata": {},
   "outputs": [
    {
     "data": {
      "text/html": [
       "<ol class=list-inline>\n",
       "\t<li>'S1F0'</li>\n",
       "\t<li>'S1F1'</li>\n",
       "\t<li>'W1F0'</li>\n",
       "\t<li>'W1F1'</li>\n",
       "\t<li>'Z1F0'</li>\n",
       "\t<li>'Z1F1'</li>\n",
       "\t<li>'Z1F2'</li>\n",
       "</ol>\n"
      ],
      "text/latex": [
       "\\begin{enumerate*}\n",
       "\\item 'S1F0'\n",
       "\\item 'S1F1'\n",
       "\\item 'W1F0'\n",
       "\\item 'W1F1'\n",
       "\\item 'Z1F0'\n",
       "\\item 'Z1F1'\n",
       "\\item 'Z1F2'\n",
       "\\end{enumerate*}\n"
      ],
      "text/markdown": [
       "1. 'S1F0'\n",
       "2. 'S1F1'\n",
       "3. 'W1F0'\n",
       "4. 'W1F1'\n",
       "5. 'Z1F0'\n",
       "6. 'Z1F1'\n",
       "7. 'Z1F2'\n",
       "\n",
       "\n"
      ],
      "text/plain": [
       "[1] \"S1F0\" \"S1F1\" \"W1F0\" \"W1F1\" \"Z1F0\" \"Z1F1\" \"Z1F2\""
      ]
     },
     "metadata": {},
     "output_type": "display_data"
    },
    {
     "data": {
      "text/plain": [
       "\n",
       "      S1F0       S1F1       W1F0       W1F1       Z1F0       Z1F1 \n",
       "0.33962264 0.05660377 0.25471698 0.14150943 0.12264151 0.08490566 "
      ]
     },
     "metadata": {},
     "output_type": "display_data"
    },
    {
     "data": {
      "image/png": "iVBORw0KGgoAAAANSUhEUgAAA0gAAANICAMAAADKOT/pAAAAPFBMVEUAAAAAv8QzMzNNTU1Z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\nAAAAAElFTkSuQmCC",
      "text/plain": [
       "plot without title"
      ]
     },
     "metadata": {},
     "output_type": "display_data"
    }
   ],
   "source": [
    "# Device type analysis\n",
    "df$devType <- substr(df$device,1,4)\n",
    "unique(df$devType)\n",
    "g1 <- ggplot(df, aes(devType)) + geom_bar(aes(fill=failure), width = 0.5) + \n",
    "  labs(caption='Failure/Non-Failure Proportion') + theme(axis.text.x = element_text(angle=65, vjust=0.6))\n",
    "g2 <- ggplot(df[df$failure==1,], aes(devType)) + geom_bar(width = 0.5) + labs(caption='Failure Proportion') + \n",
    "theme(axis.text.x = element_text(angle=65, vjust=0.6))\n",
    "grid.arrange(g1,g2, nrow = 1)\n",
    "\n",
    "# devices that have failed\n",
    "prop.table(table(df[df$failure==1,'devType']))"
   ]
  },
  {
   "cell_type": "markdown",
   "metadata": {},
   "source": [
    "From the above plot we notice failures are high for few categories. We will now start modelling.\n",
    "\n",
    "### 3. Data Preparation\n",
    "We will prepare the data prior to modelling. We will check class balance and create extra features like rolling mean from attributes to help the model."
   ]
  },
  {
   "cell_type": "code",
   "execution_count": 20,
   "metadata": {},
   "outputs": [
    {
     "data": {
      "text/plain": [
       "\n",
       "           0            1 \n",
       "0.9991485533 0.0008514467 "
      ]
     },
     "metadata": {},
     "output_type": "display_data"
    }
   ],
   "source": [
    "# Class balance\n",
    "prop.table(table(df$failure))\n",
    "# Class is highly imbalanced"
   ]
  },
  {
   "cell_type": "markdown",
   "metadata": {},
   "source": [
    "The classes are highly imbalanced. We will need to oversample the minority class at some point. To start with we will remove devices from dataset with extremely low uptime as they most likely do not indicate anything especially not failure."
   ]
  },
  {
   "cell_type": "code",
   "execution_count": 21,
   "metadata": {},
   "outputs": [],
   "source": [
    "df$week <- as.integer(as.character(df$week))\n",
    "lowrundevices <- countDeviceDateRange %>% filter(runningDays > 5)\n",
    "df <- df %>% filter(device %in% lowrundevices$device)"
   ]
  },
  {
   "cell_type": "markdown",
   "metadata": {},
   "source": [
    "We will create extra features with attributes using rolling means and rolling sd. Attribute 1 and 6 are dense and rolling may be able to capture trends. Other option is random walk with drift but we will not do it. Rolling means willbe of short window duration. Rolling sd may be helpful as the columns 1 and 6 have high variances."
   ]
  },
  {
   "cell_type": "code",
   "execution_count": 22,
   "metadata": {},
   "outputs": [],
   "source": [
    "# Rolling mean\n",
    "df <- df %>%\n",
    "  group_by(device) %>%\n",
    "  arrange(device, date) %>%\n",
    "  mutate(rollmean_s_att1 = rollmean(x = attribute1, 5, align = \"right\", fill = 0),\n",
    "         rollmean_s_att6 = rollmean(x = attribute6, 5, align = \"right\", fill = 0))\n",
    "\n",
    "\n",
    "# Roll sd\n",
    "df <- df %>%\n",
    "  group_by(device) %>%\n",
    "  arrange(device, date) %>%\n",
    "  mutate(roll_sd_att1 = rollapply(attribute1, width = 5, FUN = sd, fill = 0, align = 'r'),\n",
    "         roll_sd_att6 = rollapply(attribute6, width = 5, FUN = sd, fill = 0, align = 'r'))"
   ]
  },
  {
   "cell_type": "markdown",
   "metadata": {},
   "source": [
    "### 4. Modelling\n",
    "We will start modelling."
   ]
  },
  {
   "cell_type": "code",
   "execution_count": null,
   "metadata": {},
   "outputs": [],
   "source": [
    "# Select relevant columns\n",
    "df <- df %>% select(-c(date, device, month, wday, devType, attribute7)) \n",
    "df <- df[,-1]\n",
    "df <- df[,c(names(df)[!names(df) %in% 'failure'], 'failure')]\n",
    "levels(df$failure) <- c(\"class0\", \"class1\")\n",
    "\n",
    "# Stratefied Sampling\n",
    "inTrain <- createDataPartition(y = df$failure, list = FALSE, p = .8)\n",
    "train <- df[inTrain,]\n",
    "test <- df[-inTrain,]\n",
    "stopifnot(nrow(train) + nrow(test) == nrow(df))\n",
    "stopifnot(levels(test$failure) > 1)"
   ]
  },
  {
   "cell_type": "markdown",
   "metadata": {},
   "source": [
    "Relevant columns were selected and stratefied sampling is performed.\n",
    "\n",
    "#### AutoML using h2o.ai\n",
    "AutoML is a good starting point to identify the type of model we are looking for. Intuition is a tree based model would\n",
    "work best for this scenario.\n",
    "\n",
    "#### Synthetic sampling\n",
    "Although boosted trees in AutoML might take care of class imbalance, but this situation is severe. Also, till date autoML does not allow to manually control class imbalance. Hence, we will use SMOTE to oversample minority class."
   ]
  },
  {
   "cell_type": "code",
   "execution_count": null,
   "metadata": {},
   "outputs": [],
   "source": [
    "# Use all cores -1 \n",
    "h2o.init(nthreads = -1)"
   ]
  },
  {
   "cell_type": "code",
   "execution_count": 25,
   "metadata": {},
   "outputs": [
    {
     "data": {
      "text/plain": [
       "\n",
       "   class0    class1 \n",
       "0.6659267 0.3340733 "
      ]
     },
     "metadata": {},
     "output_type": "display_data"
    }
   ],
   "source": [
    "y <- \"failure\"\n",
    "x <- setdiff(names(train), y)\n",
    "\n",
    "# Smote sampling\n",
    "train_smote <- SMOTE(failure ~ ., as.data.frame(train), perc.over = 30000)\n",
    "prop.table(table(train_smote$failure))"
   ]
  },
  {
   "cell_type": "markdown",
   "metadata": {},
   "source": [
    "The above classes looks much more balanced. Now we will train autoML for not more than 15 mins to get a glimpse of \n",
    "model performances as a starting point.\n",
    "##### Metric: AUC\n",
    "Since we need to reduce FP/FN, AUC-ROC curve will be the appropriate metric."
   ]
  },
  {
   "cell_type": "code",
   "execution_count": 26,
   "metadata": {},
   "outputs": [
    {
     "name": "stdout",
     "output_type": "stream",
     "text": [
      "\r",
      "  |                                                                            \r",
      "  |                                                                      |   0%\r",
      "  |                                                                            \r",
      "  |======================================================================| 100%\n",
      "\r",
      "  |                                                                            \r",
      "  |                                                                      |   0%\r",
      "  |                                                                            \r",
      "  |======================================================================| 100%\n",
      "\r",
      "  |                                                                            \r",
      "  |                                                                      |   0%\r",
      "  |                                                                            \r",
      "  |==                                                                    |   3%\r",
      "  |                                                                            \r",
      "  |====                                                                  |   5%\r",
      "  |                                                                            \r",
      "  |====                                                                  |   6%\r",
      "  |                                                                            \r",
      "  |=====                                                                 |   7%\r",
      "  |                                                                            \r",
      "  |=====                                                                 |   8%\r",
      "  |                                                                            \r",
      "  |======                                                                |   8%\r",
      "  |                                                                            \r",
      "  |======                                                                |   9%\r",
      "  |                                                                            \r",
      "  |=======                                                               |  10%\r",
      "  |                                                                            \r",
      "  |========                                                              |  11%\r",
      "  |                                                                            \r",
      "  |========                                                              |  12%\r",
      "  |                                                                            \r",
      "  |=========                                                             |  12%\r",
      "  |                                                                            \r",
      "  |=========                                                             |  13%\r",
      "  |                                                                            \r",
      "  |==========                                                            |  14%\r",
      "  |                                                                            \r",
      "  |==========                                                            |  15%\r",
      "  |                                                                            \r",
      "  |===========                                                           |  15%\r",
      "  |                                                                            \r",
      "  |===========                                                           |  16%\r",
      "  |                                                                            \r",
      "  |============                                                          |  16%\r",
      "  |                                                                            \r",
      "  |============                                                          |  17%\r",
      "  |                                                                            \r",
      "  |============                                                          |  18%\r",
      "  |                                                                            \r",
      "  |=============                                                         |  18%\r",
      "  |                                                                            \r",
      "  |=============                                                         |  19%\r",
      "  |                                                                            \r",
      "  |==============                                                        |  20%\r",
      "  |                                                                            \r",
      "  |==============                                                        |  21%\r",
      "  |                                                                            \r",
      "  |===============                                                       |  21%\r",
      "  |                                                                            \r",
      "  |===============                                                       |  22%\r",
      "  |                                                                            \r",
      "  |================                                                      |  22%\r",
      "  |                                                                            \r",
      "  |================                                                      |  23%\r",
      "  |                                                                            \r",
      "  |================                                                      |  24%\r",
      "  |                                                                            \r",
      "  |=================                                                     |  24%\r",
      "  |                                                                            \r",
      "  |=================                                                     |  25%\r",
      "  |                                                                            \r",
      "  |==================                                                    |  25%\r",
      "  |                                                                            \r",
      "  |==================                                                    |  26%\r",
      "  |                                                                            \r",
      "  |===================                                                   |  26%\r",
      "  |                                                                            \r",
      "  |===================                                                   |  27%\r",
      "  |                                                                            \r",
      "  |===================                                                   |  28%\r",
      "  |                                                                            \r",
      "  |=========================                                             |  35%\r",
      "  |                                                                            \r",
      "  |=========================                                             |  36%\r",
      "  |                                                                            \r",
      "  |==========================                                            |  36%\r",
      "  |                                                                            \r",
      "  |==========================                                            |  37%\r",
      "  |                                                                            \r",
      "  |==========================                                            |  38%\r",
      "  |                                                                            \r",
      "  |===========================                                           |  38%\r",
      "  |                                                                            \r",
      "  |===========================                                           |  39%\r",
      "  |                                                                            \r",
      "  |============================                                          |  39%\r",
      "  |                                                                            \r",
      "  |============================                                          |  40%\r",
      "  |                                                                            \r",
      "  |============================                                          |  41%\r",
      "  |                                                                            \r",
      "  |=============================                                         |  41%\r",
      "  |                                                                            \r",
      "  |=============================                                         |  42%\r",
      "  |                                                                            \r",
      "  |==============================                                        |  42%\r",
      "  |                                                                            \r",
      "  |==============================                                        |  43%\r",
      "  |                                                                            \r",
      "  |==============================                                        |  44%\r",
      "  |                                                                            \r",
      "  |===============================                                       |  44%\r",
      "  |                                                                            \r",
      "  |===============================                                       |  45%\r",
      "  |                                                                            \r",
      "  |================================                                      |  45%\r",
      "  |                                                                            \r",
      "  |================================                                      |  46%\r",
      "  |                                                                            \r",
      "  |=================================                                     |  46%\r",
      "  |                                                                            \r",
      "  |=================================                                     |  47%\r",
      "  |                                                                            \r",
      "  |=================================                                     |  48%\r",
      "  |                                                                            \r",
      "  |==================================                                    |  48%\r",
      "  |                                                                            \r",
      "  |===================================                                   |  50%\r",
      "  |                                                                            \r",
      "  |======================================================================| 100%\n",
      "\r",
      "  |                                                                            \r",
      "  |                                                                      |   0%\r",
      "  |                                                                            \r",
      "  |======================================================================| 100%\n"
     ]
    },
    {
     "data": {
      "text/plain": [
       "                                               model_id      auc  logloss\n",
       "1             GBM_grid_0_AutoML_20180301_080906_model_6 0.952580 0.046784\n",
       "2 StackedEnsemble_BestOfFamily_0_AutoML_20180301_080906 0.942014 0.008228\n",
       "3             GBM_grid_0_AutoML_20180301_080906_model_4 0.937236 0.045977\n",
       "4    StackedEnsemble_AllModels_0_AutoML_20180301_080906 0.927385 0.007933\n",
       "5             GBM_grid_0_AutoML_20180301_080906_model_3 0.926154 0.045097\n",
       "6             GBM_grid_0_AutoML_20180301_080906_model_1 0.910579 0.057839\n",
       "\n",
       "[16 rows x 3 columns] "
      ]
     },
     "metadata": {},
     "output_type": "display_data"
    }
   ],
   "source": [
    "aml <- h2o.automl(x = x, y = y,\n",
    "                  training_frame = as.h2o(train_smote),\n",
    "                  leaderboard_frame = as.h2o(test),\n",
    "                  stopping_metric = 'AUC',\n",
    "                  max_runtime_secs = 900,\n",
    "                  seed = seedVal)\n",
    "aml@leaderboard"
   ]
  },
  {
   "cell_type": "code",
   "execution_count": 27,
   "metadata": {},
   "outputs": [
    {
     "data": {
      "text/html": [
       "TRUE"
      ],
      "text/latex": [
       "TRUE"
      ],
      "text/markdown": [
       "TRUE"
      ],
      "text/plain": [
       "[1] TRUE"
      ]
     },
     "metadata": {},
     "output_type": "display_data"
    }
   ],
   "source": [
    "# Shutdown h2o\n",
    "#h2o.shutdown(prompt=FALSE)"
   ]
  },
  {
   "cell_type": "markdown",
   "metadata": {},
   "source": [
    "autoML indicates GBM will be a good model. We can further use GBM with grid tuning to improve the model. autoML as not tested on test data but validation frame is fairly accurate. But we need to see if we are overfitting test data or not. We will do that using GBM and the caret package.\n",
    "\n",
    "#### Gradient Boosting\n",
    "We will do GBM using caret library via caret and minority class will be oversampled using smote. Below are the grid parameters.\n",
    "\n",
    "### 5. Model Tuning and Evaluation"
   ]
  },
  {
   "cell_type": "code",
   "execution_count": 28,
   "metadata": {},
   "outputs": [
    {
     "name": "stdout",
     "output_type": "stream",
     "text": [
      "[1] \"Optimum shrinkage param = 0.1\"\n",
      "[1] \"Optimum interaction depth = 3\"\n"
     ]
    }
   ],
   "source": [
    "# Grid Tuning\n",
    "#registerDoMC(cores = 4)\n",
    "\n",
    "# Max shrinkage for gbm\n",
    "nl = nrow(train)\n",
    "print(paste0('Optimum shrinkage param = ', max(0.01, 0.1*min(1, nl/10000))))\n",
    "\n",
    "# Max Value for interaction.depth\n",
    "print(paste0('Optimum interaction depth = ', floor(sqrt(NCOL(train)))))\n",
    "\n",
    "gbmGrid <- expand.grid(interaction.depth = c(1, 3, 6),\n",
    "                        n.trees = (0:50)*5, \n",
    "                        shrinkage = c(.1, .05,.025),\n",
    "                        n.minobsinnode = c(5, 10, 15, 20))"
   ]
  },
  {
   "cell_type": "markdown",
   "metadata": {},
   "source": [
    "Grid Tune is computationally expensive and I have turned this off at this point. We will train with pre-executed weights."
   ]
  },
  {
   "cell_type": "code",
   "execution_count": null,
   "metadata": {},
   "outputs": [],
   "source": [
    "# Fit gbm\n",
    "trctrl <- trainControl(method = \"repeatedcv\", \n",
    "                       number = 3, \n",
    "                       repeats = 2, \n",
    "                       verboseIter = FALSE,\n",
    "                       classProbs = TRUE,\n",
    "                       summaryFunction = twoClassSummary,\n",
    "                       sampling = \"smote\")\n",
    "\n",
    "model.gbm <- caret::train(failure ~ . \n",
    "                          , data = train\n",
    "                          , method = \"gbm\"\n",
    "                          , metric = \"ROC\"\n",
    "                          , preProcess = c(\"scale\", \"center\")\n",
    "                          , na.action = na.omit\n",
    "                          #, tuneGrid = gbmGrid\n",
    "                          , trControl = trctrl)"
   ]
  },
  {
   "cell_type": "code",
   "execution_count": 44,
   "metadata": {},
   "outputs": [
    {
     "data": {
      "text/plain": [
       "gbm variable importance\n",
       "\n",
       "                Overall\n",
       "attribute4       87.646\n",
       "attribute8       82.246\n",
       "attribute2       73.621\n",
       "rollmean_s_att6  16.493\n",
       "week             13.833\n",
       "rollmean_s_att1  11.188\n",
       "roll_sd_att6      7.715\n",
       "attribute1        3.497\n",
       "attribute6        2.430\n",
       "attribute9        2.322\n",
       "attribute5        1.877\n",
       "attribute3        1.479\n",
       "roll_sd_att1      1.181"
      ]
     },
     "metadata": {},
     "output_type": "display_data"
    },
    {
     "data": {},
     "metadata": {},
     "output_type": "display_data"
    },
    {
     "data": {
      "image/png": "iVBORw0KGgoAAAANSUhEUgAAA0gAAANICAMAAADKOT/pAAAAM1BMVEUAAAAAgP9NTU1oaGh8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\nCBASBAgJAoQEAUKCACFBgJAgQEgQ8P+qGQhlOsYnKQAAAABJRU5ErkJggg==",
      "text/plain": [
       "plot without title"
      ]
     },
     "metadata": {},
     "output_type": "display_data"
    }
   ],
   "source": [
    "# Plot variable importance\n",
    "gbmImp <- varImp(model.gbm, scale = FALSE)\n",
    "gbmImp\n",
    "plot(gbmImp)"
   ]
  },
  {
   "cell_type": "markdown",
   "metadata": {},
   "source": [
    "The variable importance is plotted above. As expected, the rolling mean and standard deviation was helpful. There were few surprises. Device type and weekday did not help the model, so it was removed. However, we notice week number is a good predictor."
   ]
  },
  {
   "cell_type": "code",
   "execution_count": 45,
   "metadata": {},
   "outputs": [
    {
     "data": {},
     "metadata": {},
     "output_type": "display_data"
    },
    {
     "data": {
      "image/png": "iVBORw0KGgoAAAANSUhEUgAAA0gAAANICAMAAADKOT/pAAAAPFBMVEUAAAAAZAAAgP9NTU1o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",
      "text/plain": [
       "plot without title"
      ]
     },
     "metadata": {},
     "output_type": "display_data"
    }
   ],
   "source": [
    "# Plotting the model.\n",
    "plot(model.gbm)"
   ]
  },
  {
   "cell_type": "markdown",
   "metadata": {},
   "source": [
    "We notice the ROC slightly reduces with the number of boosting iterations. It happens when the data is noisy and in our case this might be a good reason. Since boosting focusses on miscalssifications, it may bring out the average performance. It is more important that we check if we are overfitting the data or not. We will check ROC using test data and at 0.5 cutoff. "
   ]
  },
  {
   "cell_type": "code",
   "execution_count": 34,
   "metadata": {},
   "outputs": [
    {
     "name": "stdout",
     "output_type": "stream",
     "text": [
      "\n",
      "Call:\n",
      "roc.default(response = reference, predictor = predicted)\n",
      "\n",
      "Data: predicted in 24519 controls (reference 0) < 21 cases (reference 1).\n",
      "Area under the curve: 0.858\n"
     ]
    },
    {
     "data": {
      "text/plain": [
       "Confusion Matrix and Statistics\n",
       "\n",
       "          Reference\n",
       "Prediction     0     1\n",
       "         0 23392     5\n",
       "         1  1127    16\n",
       "                                          \n",
       "               Accuracy : 0.9539          \n",
       "                 95% CI : (0.9512, 0.9565)\n",
       "    No Information Rate : 0.9991          \n",
       "    P-Value [Acc > NIR] : 1               \n",
       "                                          \n",
       "                  Kappa : 0.0259          \n",
       " Mcnemar's Test P-Value : <2e-16          \n",
       "                                          \n",
       "            Sensitivity : 0.9540          \n",
       "            Specificity : 0.7619          \n",
       "         Pos Pred Value : 0.9998          \n",
       "         Neg Pred Value : 0.0140          \n",
       "             Prevalence : 0.9991          \n",
       "         Detection Rate : 0.9532          \n",
       "   Detection Prevalence : 0.9534          \n",
       "      Balanced Accuracy : 0.8580          \n",
       "                                          \n",
       "       'Positive' Class : 0               \n",
       "                                          "
      ]
     },
     "metadata": {},
     "output_type": "display_data"
    }
   ],
   "source": [
    "# Predict test data\n",
    "pred <- predict(model.gbm, test[,-ncol(test)], type = \"raw\")\n",
    "predicted <- ifelse(pred == 'class0', 0, 1)\n",
    "\n",
    "# score prediction using AUC\n",
    "reference <- ifelse(test$failure == 'class0', 0, 1)\n",
    "auc <- roc(reference, predicted)\n",
    "print(auc)\n",
    "confusionMatrix(reference = reference, data = predicted)"
   ]
  },
  {
   "cell_type": "code",
   "execution_count": 48,
   "metadata": {},
   "outputs": [],
   "source": [
    "# Below is a great plot for confusion matrix. It was referred from the below link\n",
    "# https://stackoverflow.com/questions/23891140/r-how-to-visualize-confusion-matrix-using-the-caret-package; and credits to the SO user Cybernetic\n",
    "\n",
    "draw_confusion_matrix <- function(cm) {\n",
    "\n",
    "  layout(matrix(c(1,1,2)))\n",
    "  par(mar=c(2,2,2,2))\n",
    "  plot(c(100, 345), c(300, 450), type = \"n\", xlab=\"\", ylab=\"\", xaxt='n', yaxt='n')\n",
    "  title('CONFUSION MATRIX', cex.main=2)\n",
    "\n",
    "  # create the matrix \n",
    "  rect(150, 430, 240, 370, col='#3F97D0')\n",
    "  text(195, 435, 'Class0', cex=1.2)\n",
    "  rect(250, 430, 340, 370, col='#F7AD50')\n",
    "  text(295, 435, 'Class1', cex=1.2)\n",
    "  text(125, 370, 'Predicted', cex=1.3, srt=90, font=2)\n",
    "  text(245, 450, 'Actual', cex=1.3, font=2)\n",
    "  rect(150, 305, 240, 365, col='#F7AD50')\n",
    "  rect(250, 305, 340, 365, col='#3F97D0')\n",
    "  text(140, 400, 'Class0', cex=1.2, srt=90)\n",
    "  text(140, 335, 'Class1', cex=1.2, srt=90)\n",
    "\n",
    "  # add in the cm results \n",
    "  res <- as.numeric(cm$table)\n",
    "  text(195, 400, res[1], cex=1.6, font=2, col='white')\n",
    "  text(195, 335, res[2], cex=1.6, font=2, col='white')\n",
    "  text(295, 400, res[3], cex=1.6, font=2, col='white')\n",
    "  text(295, 335, res[4], cex=1.6, font=2, col='white')\n",
    "\n",
    "  # add in the specifics \n",
    "  plot(c(100, 0), c(100, 0), type = \"n\", xlab=\"\", ylab=\"\", main = \"DETAILS\", xaxt='n', yaxt='n')\n",
    "  text(10, 85, names(cm$byClass[1]), cex=1.2, font=2)\n",
    "  text(10, 70, round(as.numeric(cm$byClass[1]), 3), cex=1.2)\n",
    "  text(30, 85, names(cm$byClass[2]), cex=1.2, font=2)\n",
    "  text(30, 70, round(as.numeric(cm$byClass[2]), 3), cex=1.2)\n",
    "  text(50, 85, names(cm$byClass[5]), cex=1.2, font=2)\n",
    "  text(50, 70, round(as.numeric(cm$byClass[5]), 3), cex=1.2)\n",
    "  text(70, 85, names(cm$byClass[6]), cex=1.2, font=2)\n",
    "  text(70, 70, round(as.numeric(cm$byClass[6]), 3), cex=1.2)\n",
    "  text(90, 85, names(cm$byClass[7]), cex=1.2, font=2)\n",
    "  text(90, 70, round(as.numeric(cm$byClass[7]), 3), cex=1.2)\n",
    "\n",
    "  # add in the accuracy information \n",
    "  text(30, 35, names(cm$overall[1]), cex=1.5, font=2)\n",
    "  text(30, 20, round(as.numeric(cm$overall[1]), 3), cex=1.4)\n",
    "  text(70, 35, names(cm$overall[2]), cex=1.5, font=2)\n",
    "  text(70, 20, round(as.numeric(cm$overall[2]), 3), cex=1.4)\n",
    "} "
   ]
  },
  {
   "cell_type": "code",
   "execution_count": 49,
   "metadata": {},
   "outputs": [
    {
     "data": {
      "image/png": "iVBORw0KGgoAAAANSUhEUgAAA0gAAANICAMAAADKOT/pAAAAilBMVEUAAAA/l9BNTU1oaGh8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\nBBggJMAAIQEGCAkw8P8BehYrM/IPhF0AAAAASUVORK5CYII=",
      "text/plain": [
       "Plot with title \"DETAILS\""
      ]
     },
     "metadata": {},
     "output_type": "display_data"
    }
   ],
   "source": [
    "cm <- confusionMatrix(reference = reference, data = predicted)\n",
    "draw_confusion_matrix(cm)"
   ]
  },
  {
   "cell_type": "markdown",
   "metadata": {},
   "source": [
    "#### The model performance on test data is 0.858 AUC\n",
    "We notice that the model predicted well and did not overfit. False positives and negatives are less which is a good thing.\n",
    "\n",
    "### 6. Conclusions\n",
    "#### How can we improve the model?\n",
    "##### 1. Account for the device drop outs for non-failure. It will be unfair to assume what happened to those devices. If we are able to assign a label to those, it will definitely help the model. This kind of data will be helpful for survival analysis.\n",
    "##### 2. Create more extra features from attributes. We can try to create many more features such as lag, drift, random walk, differencing and check how it impacts the model. Markov Chains seems to work great with random values.\n",
    "##### 3. Model it using time series. Sequence modelling like LSTM might work great to forecast failures but the data may not be enough.\n",
    "##### 4. Anomaly detection. This could also be modelled as in an unsupervised way.\n",
    "##### 5. Grid tuning and ensemble learners. I wasn't able to perform thorough grid tuning due to limited resources. But we can grid tune using more parameters for better results and may even stack it using multiple learners."
   ]
  }
 ],
 "metadata": {
  "kernelspec": {
   "display_name": "R",
   "language": "R",
   "name": "ir"
  },
  "language_info": {
   "codemirror_mode": "r",
   "file_extension": ".r",
   "mimetype": "text/x-r-source",
   "name": "R",
   "pygments_lexer": "r",
   "version": "3.4.2"
  }
 },
 "nbformat": 4,
 "nbformat_minor": 2
}
